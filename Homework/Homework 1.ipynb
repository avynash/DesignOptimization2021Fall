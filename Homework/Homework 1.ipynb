{
  "nbformat": 4,
  "nbformat_minor": 0,
  "metadata": {
    "kernelspec": {
      "display_name": "Python 3",
      "language": "python",
      "name": "python3"
    },
    "language_info": {
      "codemirror_mode": {
        "name": "ipython",
        "version": 3
      },
      "file_extension": ".py",
      "mimetype": "text/x-python",
      "name": "python",
      "nbconvert_exporter": "python",
      "pygments_lexer": "ipython3",
      "version": "3.7.3"
    },
    "pycharm": {
      "stem_cell": {
        "cell_type": "raw",
        "source": [],
        "metadata": {
          "collapsed": false
        }
      }
    },
    "colab": {
      "name": "Homework 1.ipynb",
      "provenance": [],
      "include_colab_link": true
    }
  },
  "cells": [
    {
      "cell_type": "markdown",
      "metadata": {
        "id": "view-in-github",
        "colab_type": "text"
      },
      "source": [
        "<a href=\"https://colab.research.google.com/github/avynash/DesignOptimization2021Fall/blob/main/Homework/Homework%201.ipynb\" target=\"_parent\"><img src=\"https://colab.research.google.com/assets/colab-badge.svg\" alt=\"Open In Colab\"/></a>"
      ]
    },
    {
      "cell_type": "markdown",
      "metadata": {
        "collapsed": true,
        "pycharm": {
          "name": "#%% md\n"
        },
        "id": "reTPl2vJdrrD"
      },
      "source": [
        "Solve the following problem using [Python SciPy.optimize][]. Please attach your code and\n",
        "results. Specify your initial guesses of the solution. If you change\n",
        "your initial guess, do you find different solutions? (**100 points**)\n",
        "\n",
        "$$\n",
        "\\begin{aligned}\n",
        "&\\text{minimize:} && (x_1-x_2)^2 + (x_2+x_3-2)^2 + (x_4-1)^2+(x_5-1)^2 \\\\\\\\\n",
        "&\\text{subject to:} && x_1 + 3x_2 = 0 \\\\\\\\\n",
        "&&& x_3 + x_4 - 2x_5 = 0 \\\\\\\\\n",
        "&&& x_2 - x_5 = 0 \\\\\\\\\n",
        "&&& -10 \\leq x_i \\leq 10, \\~i=1,\\ldots,5\n",
        "\\end{aligned}$$\n",
        "\n",
        "**Note**:\n",
        "\n",
        "1.  Please learn how to use **break points** to debug. **I will not\n",
        "    address your programming questions if you have not learned how to\n",
        "    debug your code.**\n",
        "\n",
        "2.  I recommend [PyCharm][] as the IDE. If you are new to Python, you can also start with [Google Colab][] without installing anything.\n",
        "    \n",
        "3.  If you are on Windows, the [Anaconda][] version of Python 3 is highly recommended.\n",
        "\n",
        "\n",
        "**Here are the steps to push a homework submission**:\n",
        "\n",
        "1.  Clone the [course repo][]: First click on **Code** to get the\n",
        " Git address (e.g., the HTTPS address). Then use your IDE to clone (download) the repo using this address. \n",
        " [PyCharm tutorial][] on using Git.\n",
        "\n",
        "2.  You will find the homework in the **Homework** folder.\n",
        "\n",
        "3.  For analytical problems (e.g., proofs and calculations), please use [Markdown][] to type up your answers. \n",
        "[Markdown Math][]. For Latex users, you can convert tex to markdown using [Pandoc][]. \n",
        "\n",
        "4. For coding problems, please submit a [Jupyter Notebook][] file with your code and final results. \n",
        "You can also add a URL to your Jupyter or Colab Notebook in README.md if you use online notebooks.\n",
        "\n",
        "5. For each homework, please submit a single notebook file (or link) that combines the markdown solutions, \n",
        "the codes, and the computation results, and name the file according to the homework.  \n",
        "\n",
        "6. **IMPORTANT** Please push (upload) the notebook file every time you work on the \n",
        "homework and add comments when you push, e.g., \"finished problem 1, still debugging problem 2\". This way I \n",
        "know you worked on your own.\n",
        " \n",
        "\n",
        "[Python SciPy.optimize]: https://docs.scipy.org/doc/scipy/reference/tutorial/optimize.html#\n",
        "[PyCharm]: https://www.jetbrains.com/pycharm/promo/?utm_source=bing&utm_medium=cpc&utm_campaign=AMER_en_US-PST%2BMST_PyCharm_Branded&utm_term=pycharm&utm_content=pycharm\n",
        "[Google Colab]: https://colab.research.google.com\n",
        "[Anaconda]: https://anaconda.org/anaconda/python\n",
        "[course repo]: https://github.com/DesignInformaticsLab/DesignOptimization2021Fall\n",
        "[PyCharm tutorial]: https://www.jetbrains.com/help/pycharm/set-up-a-git-repository.html#clone-repo\n",
        "[Pandoc]: https://pandoc.org/try/\n",
        "[Jupyter Notebook]: https://jupyter.org/try\n",
        "[Markdown]: https://guides.github.com/features/mastering-markdown/\n",
        "[Markdown Math]: http://luvxuan.top/posts/Markdown-math/"
      ]
    },
    {
      "cell_type": "code",
      "metadata": {
        "id": "wKO_s6uXd3XF"
      },
      "source": [
        "from scipy.optimize import minimize\n",
        "\n",
        "fun = lambda x: (x[0] - x[1])**2 + (x[1] + x[2] - 2)**2 + (x[3] - 1)**2 + (x[4] - 1)**2\n",
        "cons = ({'type': 'eq', 'fun': lambda x: x[0] + 3*x[1]},\n",
        "        {'type': 'eq', 'fun': lambda x: x[2] + x[3] - 2*x[4]},\n",
        "        {'type': 'eq', 'fun': lambda x: x[1] - x[4]})\n",
        "bnds = ((-10,10), (-10,10), (-10,10), (-10,10), (-10,10))\n",
        "res = minimize(fun, (1,2,9,2,1), method='SLSQP', bounds = bnds,\n",
        "              constraints = cons)\n"
      ],
      "execution_count": 8,
      "outputs": []
    },
    {
      "cell_type": "code",
      "metadata": {
        "colab": {
          "base_uri": "https://localhost:8080/"
        },
        "id": "c2ZHEFsXe-7L",
        "outputId": "571ee591-0310-4830-f40b-5e6fe6c48af9"
      },
      "source": [
        "res.x"
      ],
      "execution_count": 9,
      "outputs": [
        {
          "output_type": "execute_result",
          "data": {
            "text/plain": [
              "array([-0.76742363,  0.25580788,  0.62792154, -0.11630579,  0.25580788])"
            ]
          },
          "metadata": {},
          "execution_count": 9
        }
      ]
    }
  ]
}